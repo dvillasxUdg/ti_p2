{
  "nbformat": 4,
  "nbformat_minor": 0,
  "metadata": {
    "colab": {
      "provenance": [],
      "authorship_tag": "ABX9TyOFWGiLTnw6d6ViglsUDT8n",
      "include_colab_link": true
    },
    "kernelspec": {
      "name": "python3",
      "display_name": "Python 3"
    },
    "language_info": {
      "name": "python"
    }
  },
  "cells": [
    {
      "cell_type": "markdown",
      "metadata": {
        "id": "view-in-github",
        "colab_type": "text"
      },
      "source": [
        "<a href=\"https://colab.research.google.com/github/dvillasxUdg/ti_p2/blob/main/TI_1_Practica2_Github.ipynb\" target=\"_parent\"><img src=\"https://colab.research.google.com/assets/colab-badge.svg\" alt=\"Open In Colab\"/></a>"
      ]
    },
    {
      "cell_type": "markdown",
      "metadata": {
        "id": "bbeb0c1e"
      },
      "source": [
        "# Práctica 2\n",
        "\n",
        "**Nombre:** Damian Alfonso Villaseñor Cisneros\n",
        "\n",
        "**e-mail:** damian.villasenor3846@alumnos.udg.mx"
      ]
    },
    {
      "cell_type": "markdown",
      "metadata": {
        "id": "a31326d0"
      },
      "source": [
        "## MODULES"
      ]
    },
    {
      "cell_type": "code",
      "execution_count": null,
      "metadata": {
        "id": "9c33a472"
      },
      "outputs": [],
      "source": [
        "import math\n",
        "import numpy as np\n",
        "import matplotlib.pyplot as plt\n",
        "import pandas as pd\n",
        "\n",
        "from plotly.subplots import make_subplots\n",
        "import plotly.graph_objects as go\n",
        "\n",
        "\n",
        "from scipy.stats import wrapcauchy\n",
        "from scipy.stats import levy_stable"
      ]
    },
    {
      "cell_type": "markdown",
      "metadata": {
        "id": "eea985c3"
      },
      "source": [
        "## CLASSES"
      ]
    },
    {
      "cell_type": "code",
      "execution_count": null,
      "metadata": {
        "id": "e2ee1ad4"
      },
      "outputs": [],
      "source": [
        "################# http://www.pygame.org/wiki/2DVectorClass ##################\n",
        "class Vec2d(object):\n",
        "    \"\"\"2d vector class, supports vector and scalar operators,\n",
        "       and also provides a bunch of high level functions\n",
        "       \"\"\"\n",
        "    __slots__ = ['x', 'y']\n",
        "\n",
        "    def __init__(self, x_or_pair, y = None):\n",
        "        if y == None:\n",
        "            self.x = x_or_pair[0]\n",
        "            self.y = x_or_pair[1]\n",
        "        else:\n",
        "            self.x = x_or_pair\n",
        "            self.y = y\n",
        "\n",
        "    # Addition\n",
        "    def __add__(self, other):\n",
        "        if isinstance(other, Vec2d):\n",
        "            return Vec2d(self.x + other.x, self.y + other.y)\n",
        "        elif hasattr(other, \"__getitem__\"):\n",
        "            return Vec2d(self.x + other[0], self.y + other[1])\n",
        "        else:\n",
        "            return Vec2d(self.x + other, self.y + other)\n",
        "\n",
        "    # Subtraction\n",
        "    def __sub__(self, other):\n",
        "        if isinstance(other, Vec2d):\n",
        "            return Vec2d(self.x - other.x, self.y - other.y)\n",
        "        elif (hasattr(other, \"__getitem__\")):\n",
        "            return Vec2d(self.x - other[0], self.y - other[1])\n",
        "        else:\n",
        "            return Vec2d(self.x - other, self.y - other)\n",
        "\n",
        "    # Vector length\n",
        "    def get_length(self):\n",
        "        return math.sqrt(self.x**2 + self.y**2)\n",
        "\n",
        "    # rotate vector\n",
        "    def rotated(self, angle):\n",
        "        cos = math.cos(angle)\n",
        "        sin = math.sin(angle)\n",
        "        x = self.x*cos - self.y*sin\n",
        "        y = self.x*sin + self.y*cos\n",
        "        return Vec2d(x, y)"
      ]
    },
    {
      "cell_type": "markdown",
      "metadata": {
        "id": "308b81d9"
      },
      "source": [
        "## Actividad 1: Lévy distribution - N Curves (3 pts)\n",
        "\n",
        "* Generar al menos las 4 curvas de distribución timpo Lévy stable que se observan en la imagen\n",
        "* Visualizar con **plotly**\n",
        "\n",
        "* Parametros m = 3.0, Levy_exponent = x, beta = 0\n",
        "\n",
        "![levy.png](attachment:levy.png)"
      ]
    },
    {
      "cell_type": "code",
      "source": [],
      "metadata": {
        "id": "1aU3T8W1Fj98"
      },
      "execution_count": null,
      "outputs": []
    },
    {
      "cell_type": "markdown",
      "metadata": {
        "id": "c4ea7d32"
      },
      "source": [
        "## Actividad 2: Lévy distribution - Histogram + Curve (4 pts)\n",
        "\n",
        "* A partir de un conjunto de valores aleatorios extraidos de una distribución tipo Lévy stable, obtener su histograma y comparar con la curva correspondiente PDF\n",
        "* Visualizar con **matplotlib**"
      ]
    },
    {
      "cell_type": "code",
      "source": [],
      "metadata": {
        "id": "CAnwt3S1FlNR"
      },
      "execution_count": null,
      "outputs": []
    },
    {
      "cell_type": "markdown",
      "metadata": {
        "id": "bcc0bb18"
      },
      "source": [
        "## Actividad 3: Lévy ﬂight - Vec2d - 1 Trajectory (6 pts)\n",
        "\n",
        "* Utilizar **Vec2d**\n",
        "* Guardar trayectorias en **Pandas** Data Frame\n",
        "* Visualizar proyección en 3d con **plotly**"
      ]
    },
    {
      "cell_type": "code",
      "source": [],
      "metadata": {
        "id": "8MzJ5mT0Fpxx"
      },
      "execution_count": null,
      "outputs": []
    },
    {
      "cell_type": "markdown",
      "metadata": {
        "id": "6bc5c5b6"
      },
      "source": [
        "## Actividad 4: Correlated Random Walk - Vec2d - N Trajectories (7 pts)\n",
        "\n",
        "* Generar tantas trayectorias tipo CRW como se especifique en una variable n_traj\n",
        "* Cada una de las trayectorias debera tener un coeficiente de Cauchy diferente\n",
        "* Utilizar **Vec2d**\n",
        "* Guardar trayectorias en **Pandas** Data Frame\n",
        "* Visualizar proyección en 3d con **plotly**\n",
        "* Exportar trayectorias como *pkl*"
      ]
    },
    {
      "cell_type": "code",
      "source": [],
      "metadata": {
        "id": "kFOPufdHFuq1"
      },
      "execution_count": null,
      "outputs": []
    }
  ]
}